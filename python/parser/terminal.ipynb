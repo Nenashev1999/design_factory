{
 "cells": [
  {
   "cell_type": "code",
   "execution_count": 1,
   "metadata": {},
   "outputs": [],
   "source": [
    "from typing import List\n",
    "import serial\n",
    "import time\n",
    "import numpy as np\n",
    "\n",
    "class Ring:\n",
    "    def __init__(self, port = 'COM3', baud = 115200, timeout = 0.1):\n",
    "\n",
    "        self._serial = serial.Serial(port, baud, timeout = timeout)\n",
    "        self._buf = bytearray(b'')\n",
    "        self._msg = bytearray(b'')\n",
    "        self._range_datatype_len = 2\n",
    "        self._clock_datatype_len = 4\n",
    "\n",
    "        self.measurements = [[]]\n",
    "\n",
    "    def close(self):\n",
    "        self._serial.close()\n",
    "\n",
    "\n",
    "    def process(self) -> List[List[float]]:\n",
    "\n",
    "        self.measurements = [[]]\n",
    "\n",
    "        self._buf += self._serial.read(self._serial.in_waiting)\n",
    "        \n",
    "        while ((len(self._buf)) >= 3):\n",
    "            if ((self._buf[0] == 0xFF) and (self._buf[1] == 0xFF)):\n",
    "                # btarr[0] and btarr[1] is 0xFF starting bytes\n",
    "                packet_length = self._buf[2] + 2\n",
    "                if (len(self._buf) >= packet_length):\n",
    "\n",
    "                    if (len(self.measurements[0]) == 0):\n",
    "                        msg_num = 0\n",
    "                        total_len = len(self._buf)\n",
    "\n",
    "                    self._msg = self._buf[0:packet_length]\n",
    "                    self._buf = self._buf[packet_length:]\n",
    "                    sensors_num = self._msg[3]\n",
    "                    data_length = self._range_datatype_len * sensors_num\n",
    "                    \n",
    "                    if (data_length > packet_length):\n",
    "                        print(\"Too long message! Skip measurement.\")\n",
    "                        self._buf = self._buf[data_length:]\n",
    "                    else:\n",
    "                        crc = 0\n",
    "                        for i in range(2, data_length + self._clock_datatype_len + 3):\n",
    "                            crc = (crc + self._msg[i]) & 0xFF\n",
    "                        crc = ~(crc & 0xFF) & 0xFF\n",
    "\n",
    "                        if (crc == (self._msg[-1] & 0xFF)):\n",
    "                            \n",
    "                            if (len(self.measurements[0]) == 0):\n",
    "                                self.measurements = [[0]*(sensors_num + 1) for _ in range((total_len // packet_length))]\n",
    "\n",
    "                            ranges = [0] * sensors_num\n",
    "\n",
    "                            for i in range(sensors_num):\n",
    "                                for j in range(self._range_datatype_len):\n",
    "                                    ranges[i] += float(self._msg[4+2*i+j] << 8*j)\n",
    "\n",
    "                            clock = 0.0\n",
    "                            for i in range(self._clock_datatype_len):\n",
    "                                clock += float(self._msg[4+data_length+i] << 8*i)\n",
    "\n",
    "                            for i in range(sensors_num):\n",
    "                                self.measurements[msg_num][i] = ranges[i]\n",
    "\n",
    "                            self.measurements[msg_num][-1] = clock\n",
    "                            msg_num += 1\n",
    "                            #print(\"fine message: \" + f'Packet length {packet_length}, sensors_num {sensors_num}, ranges = {ranges[0]}, {ranges[1]}; clock_ms = {clock}') \n",
    "                     \n",
    "                        else:\n",
    "                            print(\"Corrupted message! Skip measurement.\")\n",
    "                            self._buf = self._buf[(data_length + self._clock_datatype_len + 3):]\n",
    "                else:\n",
    "                   return self.measurements\n",
    "\n",
    "            else:\n",
    "                self._buf = self._buf[1:]\n",
    "            \n",
    "        return self.measurements\n",
    "\n",
    "    def readMeasurements(self) -> List[int]:\n",
    "        pass"
   ]
  },
  {
   "cell_type": "code",
   "execution_count": 2,
   "metadata": {
    "pycharm": {
     "is_executing": true
    }
   },
   "outputs": [],
   "source": [
    "import threading\n",
    "\n",
    "\n",
    "class RepeatTimer(threading.Timer):\n",
    "    def run(self):\n",
    "        while not self.finished.wait(self.interval):\n",
    "            self.function(*self.args, **self.kwargs)\n",
    "            \n",
    "            \n",
    "class WoodChecker:\n",
    "    def __init__(self, maximum_distance: float, rate: float, right_serial: Ring, left_serial: Ring):\n",
    "        self._right_serial = right_serial\n",
    "        self._left_serial = left_serial\n",
    "        self.scans_buffer = []\n",
    "        self.timer = RepeatTimer(rate, self.check_scan)\n",
    "        \n",
    "    def check_scan(self):\n",
    "        left_scan = self._left_serial.process()[-1]\n",
    "        right_scan = self._right_serial.process()[-1]\n",
    "        invited_scans = self.invite_scans(left_scan, right_scan)\n",
    "        converted_scans = self.convert_to_meters(invited_scans)\n",
    "        if len(converted_scans) == 24:\n",
    "            print(converted_scans)\n",
    "            self.scans_buffer.append(converted_scans)\n",
    "        \n",
    "    def invite_scans(self, left_scan, right_scan):\n",
    "        return left_scan[:-1] + right_scan[:-1]\n",
    "    \n",
    "    def convert_to_meters(self, scans):\n",
    "        return [item / 1000 for item in scans]\n",
    "        \n",
    "    @property\n",
    "    def measurements(self):\n",
    "        return self.scans_buffer\n",
    "    \n",
    "    def start_scanning(self):\n",
    "        self.timer.start()\n",
    "        \n",
    "    def stop_scanning(self):\n",
    "        self.timer.cancel()"
   ]
  },
  {
   "cell_type": "code",
   "execution_count": 3,
   "metadata": {},
   "outputs": [],
   "source": [
    "import typing as tp\n",
    "import math\n",
    "\n",
    "\n",
    "def calculate_volume(\n",
    "    points_scans: list,\n",
    "    l: tp.Union[float, list],\n",
    "    alpha: float = 360 / 24,\n",
    "    is_radians: bool = False\n",
    ") -> float:\n",
    "    \"\"\"\n",
    "    points: array [plane, scans]\n",
    "    l: length between planes\n",
    "    alpha: angle between sensors (default: 30)\n",
    "    is_radians: if alpha provided in radians (default: False)\n",
    "    \"\"\"\n",
    "    volume = 0.0\n",
    "    if not is_radians:\n",
    "        alpha *= math.pi / 180  # to radians\n",
    "    if isinstance(l, (int, float)):\n",
    "        l = [l] * len(points_scans)\n",
    "\n",
    "    plane_num = 0\n",
    "    while plane_num < len(points_scans) - 1:\n",
    "        sensor_num = -1\n",
    "        while sensor_num < len(points_scans[plane_num]) - 1:\n",
    "            r1_o = points_scans[plane_num][sensor_num]\n",
    "            r1_d = points_scans[plane_num + 1][sensor_num]\n",
    "            r2_o = points_scans[plane_num][sensor_num + 1]\n",
    "            r2_d = points_scans[plane_num + 1][sensor_num + 1]\n",
    "\n",
    "            volume += (\n",
    "                l[plane_num] * (\n",
    "                    2 * r1_o * r1_o +\n",
    "                    2 * r1_d * r1_d +\n",
    "                    2 * r2_o * r2_o +\n",
    "                    2 * r2_d * r2_d +\n",
    "                    2 * r1_o * r2_o +\n",
    "                    2 * r1_o * r1_d +\n",
    "                    2 * r1_d * r2_d +\n",
    "                    2 * r2_o * r2_d +\n",
    "                    r1_o * r2_d +\n",
    "                    r1_d * r2_o\n",
    "                )\n",
    "            )\n",
    "\n",
    "            sensor_num += 1\n",
    "        plane_num += 1\n",
    "\n",
    "    volume *= alpha / 36\n",
    "    return volume"
   ]
  },
  {
   "cell_type": "code",
   "execution_count": 4,
   "metadata": {},
   "outputs": [],
   "source": [
    "# Change your usb name here (ex. /dev/ttyUSB0) /dev/ttyACM1 COM6\n",
    "right_half_master = Ring(port = 'COM6', baud = 115200, timeout = 0.1)\n",
    "left_half_slave = Ring(port = 'COM7', baud = 115200, timeout = 0.1)"
   ]
  },
  {
   "cell_type": "code",
   "execution_count": 5,
   "metadata": {},
   "outputs": [],
   "source": [
    "checker = WoodChecker(1, 0.1, right_half_master, left_half_slave)"
   ]
  },
  {
   "cell_type": "code",
   "execution_count": null,
   "metadata": {},
   "outputs": [],
   "source": [
    "left_half_slave.process()"
   ]
  },
  {
   "cell_type": "code",
   "execution_count": null,
   "metadata": {},
   "outputs": [],
   "source": [
    "right_half_master.process()"
   ]
  },
  {
   "cell_type": "code",
   "execution_count": null,
   "metadata": {},
   "outputs": [],
   "source": [
    "checker.start_scanning()\n",
    "time.sleep(2.0)\n",
    "checker.stop_scanning()\n",
    "print(calculate_volume(checker.measurements, 1))"
   ]
  },
  {
   "cell_type": "code",
   "execution_count": null,
   "metadata": {},
   "outputs": [],
   "source": [
    "calculate_volume(checker.measurements, 1)"
   ]
  },
  {
   "cell_type": "code",
   "execution_count": null,
   "metadata": {},
   "outputs": [],
   "source": [
    "a = [1, 2, 3, 4]\n",
    "print([i / 10 for i in a])"
   ]
  },
  {
   "cell_type": "code",
   "execution_count": null,
   "metadata": {},
   "outputs": [],
   "source": [
    "print(right_half_master.process())"
   ]
  },
  {
   "cell_type": "code",
   "execution_count": null,
   "metadata": {},
   "outputs": [],
   "source": [
    "print(left_half_slave.process())"
   ]
  },
  {
   "cell_type": "code",
   "execution_count": null,
   "metadata": {},
   "outputs": [],
   "source": []
  }
 ],
 "metadata": {
  "kernelspec": {
   "display_name": "Python 3 (ipykernel)",
   "language": "python",
   "name": "python3"
  },
  "language_info": {
   "codemirror_mode": {
    "name": "ipython",
    "version": 3
   },
   "file_extension": ".py",
   "mimetype": "text/x-python",
   "name": "python",
   "nbconvert_exporter": "python",
   "pygments_lexer": "ipython3",
   "version": "3.8.10"
  },
  "vscode": {
   "interpreter": {
    "hash": "a077222d77dfe082b8f1dd562ad70e458ac2ab76993a0b248ab0476e32e9e8dd"
   }
  }
 },
 "nbformat": 4,
 "nbformat_minor": 2
}
